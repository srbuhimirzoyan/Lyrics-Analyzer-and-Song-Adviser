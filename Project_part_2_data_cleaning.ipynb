{
 "cells": [
  {
   "cell_type": "markdown",
   "metadata": {},
   "source": [
    "# Data Cleaning "
   ]
  },
  {
   "cell_type": "code",
   "execution_count": 1,
   "metadata": {},
   "outputs": [],
   "source": [
    "import pandas as pd\n",
    "import re\n",
    "import matplotlib.pyplot as plt\n",
    "%matplotlib inline\n",
    "from langdetect import detect\n",
    "from utils1 import Cleaner,Super_list\n",
    "from glob import glob\n",
    "from pprint import pprint\n",
    "import nltk\n",
    "from nltk.corpus import stopwords, wordnet\n",
    "from nltk.tokenize import sent_tokenize, word_tokenize\n",
    "from nltk.stem import PorterStemmer, WordNetLemmatizer"
   ]
  },
  {
   "cell_type": "code",
   "execution_count": 2,
   "metadata": {},
   "outputs": [],
   "source": [
    "cols=['Artist','Name', 'Year', 'Popularity', 'genre', 'lyrics']"
   ]
  },
  {
   "cell_type": "code",
   "execution_count": 3,
   "metadata": {},
   "outputs": [],
   "source": [
    "#putting all 5 dfs into one list and dropping rows where all values are NA\n",
    "allFiles =glob(\"df*.csv\")\n",
    "ls=[]\n",
    "frame = pd.DataFrame()\n",
    "\n",
    "for file in allFiles:\n",
    "    df = pd.read_csv(file,index_col=None, header=0)\n",
    "    ls.append(df)\n",
    "ls1=[i.dropna(axis=1, how='all') for i in ls]\n",
    "for i in ls1:\n",
    "    i.columns=cols\n"
   ]
  },
  {
   "cell_type": "code",
   "execution_count": 4,
   "metadata": {},
   "outputs": [],
   "source": [
    "ls2=[frame[['Artist','Name', 'Year', 'Popularity', 'genre', 'lyrics']] for frame in ls1] # setting the colnames for separate dfs"
   ]
  },
  {
   "cell_type": "code",
   "execution_count": 5,
   "metadata": {},
   "outputs": [],
   "source": [
    "full=pd.concat(ls2) #merging all dfs into one"
   ]
  },
  {
   "cell_type": "code",
   "execution_count": 6,
   "metadata": {},
   "outputs": [],
   "source": [
    "def get_genre(string):\n",
    "    crop = string[7:]\n",
    "    genre = crop[:crop.find('\"')]\n",
    "    return genre\n",
    "\n",
    "full[\"genre\"]=full[\"genre\"].apply(str).apply(get_genre) #getting clean genre out of the tag/getting just genre"
   ]
  },
  {
   "cell_type": "code",
   "execution_count": 7,
   "metadata": {},
   "outputs": [
    {
     "name": "stdout",
     "output_type": "stream",
     "text": [
      "<class 'pandas.core.frame.DataFrame'>\n",
      "Int64Index: 8044 entries, 0 to 1303\n",
      "Data columns (total 6 columns):\n",
      "Artist        8044 non-null object\n",
      "Name          8044 non-null object\n",
      "Year          8044 non-null int64\n",
      "Popularity    8044 non-null float64\n",
      "genre         8044 non-null object\n",
      "lyrics        7654 non-null object\n",
      "dtypes: float64(1), int64(1), object(4)\n",
      "memory usage: 439.9+ KB\n",
      "<class 'pandas.core.frame.DataFrame'>\n",
      "Int64Index: 7654 entries, 0 to 1303\n",
      "Data columns (total 6 columns):\n",
      "Artist        7654 non-null object\n",
      "Name          7654 non-null object\n",
      "Year          7654 non-null int64\n",
      "Popularity    7654 non-null float64\n",
      "genre         7654 non-null object\n",
      "lyrics        7654 non-null object\n",
      "dtypes: float64(1), int64(1), object(4)\n",
      "memory usage: 418.6+ KB\n",
      "None\n"
     ]
    }
   ],
   "source": [
    "full.info()\n",
    "full=full.dropna()## droping observation where exists na \n",
    "print(full.info())"
   ]
  },
  {
   "cell_type": "code",
   "execution_count": 8,
   "metadata": {},
   "outputs": [
    {
     "data": {
      "text/html": [
       "<div>\n",
       "<style scoped>\n",
       "    .dataframe tbody tr th:only-of-type {\n",
       "        vertical-align: middle;\n",
       "    }\n",
       "\n",
       "    .dataframe tbody tr th {\n",
       "        vertical-align: top;\n",
       "    }\n",
       "\n",
       "    .dataframe thead th {\n",
       "        text-align: right;\n",
       "    }\n",
       "</style>\n",
       "<table border=\"1\" class=\"dataframe\">\n",
       "  <thead>\n",
       "    <tr style=\"text-align: right;\">\n",
       "      <th></th>\n",
       "      <th>Artist</th>\n",
       "      <th>Name</th>\n",
       "      <th>Year</th>\n",
       "      <th>Popularity</th>\n",
       "      <th>genre</th>\n",
       "      <th>lyrics</th>\n",
       "    </tr>\n",
       "  </thead>\n",
       "  <tbody>\n",
       "    <tr>\n",
       "      <th>0</th>\n",
       "      <td>Atif Aslam</td>\n",
       "      <td>Paniyon Sa Lyrics</td>\n",
       "      <td>2018</td>\n",
       "      <td>100.000000</td>\n",
       "      <td>Rock</td>\n",
       "      <td>Jo tere laagi preet mohe\\r\\nRooh baar baar ter...</td>\n",
       "    </tr>\n",
       "    <tr>\n",
       "      <th>1</th>\n",
       "      <td>Atif Aslam</td>\n",
       "      <td>O Saathi (From \"Baaghi 2\") Lyrics</td>\n",
       "      <td>2018</td>\n",
       "      <td>92.662551</td>\n",
       "      <td>Rock</td>\n",
       "      <td>Kacchi doriyon, doriyon, doriyon se\\r\\nMainu t...</td>\n",
       "    </tr>\n",
       "    <tr>\n",
       "      <th>2</th>\n",
       "      <td>Atif Aslam</td>\n",
       "      <td>Dil Diyan Gallan Lyrics</td>\n",
       "      <td>2017</td>\n",
       "      <td>91.854784</td>\n",
       "      <td>Rock</td>\n",
       "      <td>Hmm...\\r\\nWoo...,Allah mujhe dard ke kaabil ba...</td>\n",
       "    </tr>\n",
       "    <tr>\n",
       "      <th>3</th>\n",
       "      <td>Atif Aslam</td>\n",
       "      <td>Jab Koi Baat Lyrics</td>\n",
       "      <td>2018</td>\n",
       "      <td>88.245526</td>\n",
       "      <td>Rock</td>\n",
       "      <td>Edited by hadiehama92,hmmhm hmmhm... hmmhm hmm...</td>\n",
       "    </tr>\n",
       "    <tr>\n",
       "      <th>4</th>\n",
       "      <td>Atif Aslam</td>\n",
       "      <td>Jeena Jeena Lyrics</td>\n",
       "      <td>2015</td>\n",
       "      <td>87.891493</td>\n",
       "      <td>Rock</td>\n",
       "      <td>Jab koi baat bigad jaaye\\r\\nJab koi mushkil pa...</td>\n",
       "    </tr>\n",
       "  </tbody>\n",
       "</table>\n",
       "</div>"
      ],
      "text/plain": [
       "       Artist                               Name  Year  Popularity genre  \\\n",
       "0  Atif Aslam                  Paniyon Sa Lyrics  2018  100.000000  Rock   \n",
       "1  Atif Aslam  O Saathi (From \"Baaghi 2\") Lyrics  2018   92.662551  Rock   \n",
       "2  Atif Aslam            Dil Diyan Gallan Lyrics  2017   91.854784  Rock   \n",
       "3  Atif Aslam                Jab Koi Baat Lyrics  2018   88.245526  Rock   \n",
       "4  Atif Aslam                 Jeena Jeena Lyrics  2015   87.891493  Rock   \n",
       "\n",
       "                                              lyrics  \n",
       "0  Jo tere laagi preet mohe\\r\\nRooh baar baar ter...  \n",
       "1  Kacchi doriyon, doriyon, doriyon se\\r\\nMainu t...  \n",
       "2  Hmm...\\r\\nWoo...,Allah mujhe dard ke kaabil ba...  \n",
       "3  Edited by hadiehama92,hmmhm hmmhm... hmmhm hmm...  \n",
       "4  Jab koi baat bigad jaaye\\r\\nJab koi mushkil pa...  "
      ]
     },
     "execution_count": 8,
     "metadata": {},
     "output_type": "execute_result"
    }
   ],
   "source": [
    "full.head()"
   ]
  },
  {
   "cell_type": "code",
   "execution_count": 9,
   "metadata": {},
   "outputs": [
    {
     "data": {
      "text/html": [
       "<div>\n",
       "<style scoped>\n",
       "    .dataframe tbody tr th:only-of-type {\n",
       "        vertical-align: middle;\n",
       "    }\n",
       "\n",
       "    .dataframe tbody tr th {\n",
       "        vertical-align: top;\n",
       "    }\n",
       "\n",
       "    .dataframe thead th {\n",
       "        text-align: right;\n",
       "    }\n",
       "</style>\n",
       "<table border=\"1\" class=\"dataframe\">\n",
       "  <thead>\n",
       "    <tr style=\"text-align: right;\">\n",
       "      <th></th>\n",
       "      <th>Artist</th>\n",
       "      <th>Name</th>\n",
       "      <th>Year</th>\n",
       "      <th>Popularity</th>\n",
       "      <th>genre</th>\n",
       "      <th>lyrics</th>\n",
       "    </tr>\n",
       "  </thead>\n",
       "  <tbody>\n",
       "    <tr>\n",
       "      <th>0</th>\n",
       "      <td>Atif Aslam</td>\n",
       "      <td>Paniyon Sa Lyrics</td>\n",
       "      <td>2018</td>\n",
       "      <td>100.000000</td>\n",
       "      <td>Rock</td>\n",
       "      <td>Jo tere laagi preet mohe. Rooh baar baar tera ...</td>\n",
       "    </tr>\n",
       "    <tr>\n",
       "      <th>1</th>\n",
       "      <td>Atif Aslam</td>\n",
       "      <td>O Saathi (From \"Baaghi 2\") Lyrics</td>\n",
       "      <td>2018</td>\n",
       "      <td>92.662551</td>\n",
       "      <td>Rock</td>\n",
       "      <td>Kacchi doriyon, doriyon, doriyon se. Mainu tu ...</td>\n",
       "    </tr>\n",
       "    <tr>\n",
       "      <th>2</th>\n",
       "      <td>Atif Aslam</td>\n",
       "      <td>Dil Diyan Gallan Lyrics</td>\n",
       "      <td>2017</td>\n",
       "      <td>91.854784</td>\n",
       "      <td>Rock</td>\n",
       "      <td>Hmm.... Woo...,Allah mujhe dard ke kaabil bana...</td>\n",
       "    </tr>\n",
       "    <tr>\n",
       "      <th>3</th>\n",
       "      <td>Atif Aslam</td>\n",
       "      <td>Jab Koi Baat Lyrics</td>\n",
       "      <td>2018</td>\n",
       "      <td>88.245526</td>\n",
       "      <td>Rock</td>\n",
       "      <td>Edited by hadiehama92,hmmhm hmmhm... hmmhm hmm...</td>\n",
       "    </tr>\n",
       "    <tr>\n",
       "      <th>4</th>\n",
       "      <td>Atif Aslam</td>\n",
       "      <td>Jeena Jeena Lyrics</td>\n",
       "      <td>2015</td>\n",
       "      <td>87.891493</td>\n",
       "      <td>Rock</td>\n",
       "      <td>Jab koi baat bigad jaaye. Jab koi mushkil pad ...</td>\n",
       "    </tr>\n",
       "  </tbody>\n",
       "</table>\n",
       "</div>"
      ],
      "text/plain": [
       "       Artist                               Name  Year  Popularity genre  \\\n",
       "0  Atif Aslam                  Paniyon Sa Lyrics  2018  100.000000  Rock   \n",
       "1  Atif Aslam  O Saathi (From \"Baaghi 2\") Lyrics  2018   92.662551  Rock   \n",
       "2  Atif Aslam            Dil Diyan Gallan Lyrics  2017   91.854784  Rock   \n",
       "3  Atif Aslam                Jab Koi Baat Lyrics  2018   88.245526  Rock   \n",
       "4  Atif Aslam                 Jeena Jeena Lyrics  2015   87.891493  Rock   \n",
       "\n",
       "                                              lyrics  \n",
       "0  Jo tere laagi preet mohe. Rooh baar baar tera ...  \n",
       "1  Kacchi doriyon, doriyon, doriyon se. Mainu tu ...  \n",
       "2  Hmm.... Woo...,Allah mujhe dard ke kaabil bana...  \n",
       "3  Edited by hadiehama92,hmmhm hmmhm... hmmhm hmm...  \n",
       "4  Jab koi baat bigad jaaye. Jab koi mushkil pad ...  "
      ]
     },
     "execution_count": 9,
     "metadata": {},
     "output_type": "execute_result"
    }
   ],
   "source": [
    "full[\"lyrics\"]=[re.sub(\"[\\r]\",\". \",i).replace(\"\\n\",\"\") for i in full[\"lyrics\"]]#cleaning lyrics, removing /r and /n\n",
    "full.head()"
   ]
  },
  {
   "cell_type": "code",
   "execution_count": 10,
   "metadata": {},
   "outputs": [
    {
     "data": {
      "text/html": [
       "<div>\n",
       "<style scoped>\n",
       "    .dataframe tbody tr th:only-of-type {\n",
       "        vertical-align: middle;\n",
       "    }\n",
       "\n",
       "    .dataframe tbody tr th {\n",
       "        vertical-align: top;\n",
       "    }\n",
       "\n",
       "    .dataframe thead th {\n",
       "        text-align: right;\n",
       "    }\n",
       "</style>\n",
       "<table border=\"1\" class=\"dataframe\">\n",
       "  <thead>\n",
       "    <tr style=\"text-align: right;\">\n",
       "      <th></th>\n",
       "      <th>Artist</th>\n",
       "      <th>Name</th>\n",
       "      <th>Year</th>\n",
       "      <th>Popularity</th>\n",
       "      <th>genre</th>\n",
       "      <th>lyrics</th>\n",
       "    </tr>\n",
       "  </thead>\n",
       "  <tbody>\n",
       "    <tr>\n",
       "      <th>0</th>\n",
       "      <td>Atif Aslam</td>\n",
       "      <td>Paniyon Sa</td>\n",
       "      <td>2018</td>\n",
       "      <td>100.000000</td>\n",
       "      <td>Rock</td>\n",
       "      <td>Jo tere laagi preet mohe. Rooh baar baar tera ...</td>\n",
       "    </tr>\n",
       "    <tr>\n",
       "      <th>1</th>\n",
       "      <td>Atif Aslam</td>\n",
       "      <td>O Saathi (From \"Baaghi 2\")</td>\n",
       "      <td>2018</td>\n",
       "      <td>92.662551</td>\n",
       "      <td>Rock</td>\n",
       "      <td>Kacchi doriyon, doriyon, doriyon se. Mainu tu ...</td>\n",
       "    </tr>\n",
       "    <tr>\n",
       "      <th>2</th>\n",
       "      <td>Atif Aslam</td>\n",
       "      <td>Dil Diyan Gallan</td>\n",
       "      <td>2017</td>\n",
       "      <td>91.854784</td>\n",
       "      <td>Rock</td>\n",
       "      <td>Hmm.... Woo...,Allah mujhe dard ke kaabil bana...</td>\n",
       "    </tr>\n",
       "    <tr>\n",
       "      <th>3</th>\n",
       "      <td>Atif Aslam</td>\n",
       "      <td>Jab Koi Baat</td>\n",
       "      <td>2018</td>\n",
       "      <td>88.245526</td>\n",
       "      <td>Rock</td>\n",
       "      <td>Edited by hadiehama92,hmmhm hmmhm... hmmhm hmm...</td>\n",
       "    </tr>\n",
       "    <tr>\n",
       "      <th>4</th>\n",
       "      <td>Atif Aslam</td>\n",
       "      <td>Jeena Jeena</td>\n",
       "      <td>2015</td>\n",
       "      <td>87.891493</td>\n",
       "      <td>Rock</td>\n",
       "      <td>Jab koi baat bigad jaaye. Jab koi mushkil pad ...</td>\n",
       "    </tr>\n",
       "  </tbody>\n",
       "</table>\n",
       "</div>"
      ],
      "text/plain": [
       "       Artist                         Name  Year  Popularity genre  \\\n",
       "0  Atif Aslam                  Paniyon Sa   2018  100.000000  Rock   \n",
       "1  Atif Aslam  O Saathi (From \"Baaghi 2\")   2018   92.662551  Rock   \n",
       "2  Atif Aslam            Dil Diyan Gallan   2017   91.854784  Rock   \n",
       "3  Atif Aslam                Jab Koi Baat   2018   88.245526  Rock   \n",
       "4  Atif Aslam                 Jeena Jeena   2015   87.891493  Rock   \n",
       "\n",
       "                                              lyrics  \n",
       "0  Jo tere laagi preet mohe. Rooh baar baar tera ...  \n",
       "1  Kacchi doriyon, doriyon, doriyon se. Mainu tu ...  \n",
       "2  Hmm.... Woo...,Allah mujhe dard ke kaabil bana...  \n",
       "3  Edited by hadiehama92,hmmhm hmmhm... hmmhm hmm...  \n",
       "4  Jab koi baat bigad jaaye. Jab koi mushkil pad ...  "
      ]
     },
     "execution_count": 10,
     "metadata": {},
     "output_type": "execute_result"
    }
   ],
   "source": [
    "full[\"Name\"]=full.Name.apply(lambda x:x.replace(\"Lyrics\",\"\")) # removing word \"lyrics\" from song name\n",
    "full.head()\n",
    "\n"
   ]
  },
  {
   "cell_type": "code",
   "execution_count": 11,
   "metadata": {},
   "outputs": [
    {
     "name": "stdout",
     "output_type": "stream",
     "text": [
      "<class 'pandas.core.frame.DataFrame'>\n",
      "Int64Index: 7654 entries, 0 to 1303\n",
      "Data columns (total 7 columns):\n",
      "Artist        7654 non-null object\n",
      "Name          7654 non-null object\n",
      "Year          7654 non-null int64\n",
      "Popularity    7654 non-null float64\n",
      "genre         7654 non-null object\n",
      "lyrics        7654 non-null object\n",
      "languages     7654 non-null object\n",
      "dtypes: float64(1), int64(1), object(5)\n",
      "memory usage: 478.4+ KB\n",
      "en    6714\n",
      "id     282\n",
      "tl     233\n",
      "so     121\n",
      "es      74\n",
      "fr      73\n",
      "de      44\n",
      "sw      29\n",
      "et      22\n",
      "ro      19\n",
      "nl       7\n",
      "hi       6\n",
      "fi       5\n",
      "tr       4\n",
      "ca       3\n",
      "it       3\n",
      "ja       2\n",
      "ko       2\n",
      "sv       2\n",
      "pt       2\n",
      "lt       2\n",
      "af       1\n",
      "sk       1\n",
      "pl       1\n",
      "ur       1\n",
      "hr       1\n",
      "Name: languages, dtype: int64\n",
      "<class 'pandas.core.frame.DataFrame'>\n",
      "Int64Index: 6714 entries, 6 to 1303\n",
      "Data columns (total 7 columns):\n",
      "Artist        6714 non-null object\n",
      "Name          6714 non-null object\n",
      "Year          6714 non-null int64\n",
      "Popularity    6714 non-null float64\n",
      "genre         6714 non-null object\n",
      "lyrics        6714 non-null object\n",
      "languages     6714 non-null object\n",
      "dtypes: float64(1), int64(1), object(5)\n",
      "memory usage: 419.6+ KB\n",
      "None\n"
     ]
    }
   ],
   "source": [
    "full.head()##cleaned \n",
    "full[\"languages\"]=[detect(i) for i in full[\"lyrics\"]] # detecting language from song lyrics\n",
    "full.info()\n",
    "print(full.languages.value_counts())\n",
    "full=full[full.languages==\"en\"] #letting songs only in english\n",
    "print(full.info())"
   ]
  },
  {
   "cell_type": "code",
   "execution_count": 12,
   "metadata": {},
   "outputs": [],
   "source": [
    "del full[\"languages\"] # removing the column languages as they all have the same value-\"en\""
   ]
  },
  {
   "cell_type": "code",
   "execution_count": 13,
   "metadata": {},
   "outputs": [
    {
     "name": "stdout",
     "output_type": "stream",
     "text": [
      "Love Me                                       5\n",
      "Love Song                                     5\n",
      "Runaway                                       5\n",
      "I Believe                                     4\n",
      "Everyday                                      4\n",
      "Baby                                          4\n",
      "In My Life                                    4\n",
      "Without You                                   4\n",
      "I'm On One                                    4\n",
      "Forever                                       4\n",
      "Home                                          4\n",
      "Sing                                          4\n",
      "Can't Help Falling In Love                    4\n",
      "Changes                                       4\n",
      "Mercy                                         4\n",
      "Butterfly                                     4\n",
      "Time                                          4\n",
      "Still                                         4\n",
      "Lost                                          4\n",
      "Let Me Love You                               4\n",
      "In The End                                    3\n",
      "I Will Always Love You                        3\n",
      "My Love                                       3\n",
      "Scream                                        3\n",
      "Thank You for The Music                       3\n",
      "Together                                      3\n",
      "I Will                                        3\n",
      "You                                           3\n",
      "Here, There And Everywhere                    3\n",
      "Someone Like You                              3\n",
      "                                             ..\n",
      "Who Wrote Holden Caulfield?                   1\n",
      "Build A Home                                  1\n",
      "Shake My Sillie's Out                         1\n",
      "Sleep                                         1\n",
      "Never Let Me Go                               1\n",
      "Denim Jacket                                  1\n",
      "Lost Chord                                    1\n",
      "Hey Hey Helen                                 1\n",
      "Girl In The Window                            1\n",
      "The Way I Am                                  1\n",
      "Beauty And A Beat                             1\n",
      "Version Girl                                  1\n",
      "All I Want For Christmas Is You               1\n",
      "I Will Run To You                             1\n",
      "Hallo Spaceboy                                1\n",
      "Slow Jam                                      1\n",
      "Hasta Manana                                  1\n",
      "Numb/encore                                   1\n",
      "Don't Wanna Let You Go                        1\n",
      "Take Me Out to the Ballgame                   1\n",
      "The Second Attack (the Death Of Gavroche)     1\n",
      "Hail Mary (Murder Inc. Diss)                  1\n",
      "See The Sun                                   1\n",
      "Look In Any Window                            1\n",
      "Bermuda Triangle                              1\n",
      "Waiting                                       1\n",
      "2b A Master                                   1\n",
      "Tell Him                                      1\n",
      "Bow Down                                      1\n",
      "Hands on the Wheel                            1\n",
      "Name: Name, Length: 6143, dtype: int64\n"
     ]
    }
   ],
   "source": [
    "print(full.Name.value_counts())  # many songs that have duplicates which needs to be cleaned\n",
    "full=full.drop_duplicates(subset=\"Name\") # deleting duplicates by song Name\n"
   ]
  },
  {
   "cell_type": "code",
   "execution_count": 14,
   "metadata": {},
   "outputs": [
    {
     "name": "stdout",
     "output_type": "stream",
     "text": [
      "A-YO                                 1\n",
      "We Are The World                     1\n",
      "Malawi Anthem Text                   1\n",
      "Stuck In A Moment                    1\n",
      "My Funny Valentine                   1\n",
      "The Little Things Give You Away      1\n",
      "Already Done                         1\n",
      "My Tribute Medley                    1\n",
      "Forest                               1\n",
      "Safe                                 1\n",
      "Sara                                 1\n",
      "(they Long To Be) Close To You       1\n",
      "Blue Spark                           1\n",
      "The Earth Dies Screaming             1\n",
      "Simple Things                        1\n",
      "Cry To Me                            1\n",
      "Do Lord                              1\n",
      "Lucozade                             1\n",
      "Be Somebody                          1\n",
      "Graffiti                             1\n",
      "If I Ever                            1\n",
      "My Dear Companion                    1\n",
      "Hotline Bling                        1\n",
      "Wild Thoughts                        1\n",
      "All This Time                        1\n",
      "Smooth Sailing                       1\n",
      "No One Will Ever Know                1\n",
      "The Body Song                        1\n",
      "Without Question                     1\n",
      "When You Wish Upon A Star            1\n",
      "                                    ..\n",
      "Motherlands                          1\n",
      "I'm Sorry Mama (full song)           1\n",
      "Don't Ever Play Yourself             1\n",
      "March To the Sea                     1\n",
      "Worth It                             1\n",
      "Virginia Moon                        1\n",
      "The Bitch Is Back                    1\n",
      "Wave Your Flag                       1\n",
      "So Long, Farewell (the Children)     1\n",
      "Battle Cry                           1\n",
      "I Do                                 1\n",
      "Criminal                             1\n",
      "Struggle Rapper                      1\n",
      "We Never Change                      1\n",
      "Session                              1\n",
      "Thunder (Official Remix)             1\n",
      "ABC Cafe                             1\n",
      "Nina, Pretty Ballerina               1\n",
      "City Of Angels                       1\n",
      "Turkey Anthem Text                   1\n",
      "Thank You for The Music              1\n",
      "Daylight                             1\n",
      "All At Once                          1\n",
      "Farewell Song                        1\n",
      "I've Got You Under My Skin           1\n",
      "Under Pressure                       1\n",
      "Gotta Go My Own Way                  1\n",
      "Pharaoh, Pharaoh                     1\n",
      "Let Me                               1\n",
      "Hands on the Wheel                   1\n",
      "Name: Name, Length: 6143, dtype: int64\n",
      "<class 'pandas.core.frame.DataFrame'>\n",
      "Int64Index: 6040 entries, 6 to 1303\n",
      "Data columns (total 6 columns):\n",
      "Artist        6040 non-null object\n",
      "Name          6040 non-null object\n",
      "Year          6040 non-null int64\n",
      "Popularity    6040 non-null float64\n",
      "genre         6040 non-null object\n",
      "lyrics        6040 non-null object\n",
      "dtypes: float64(1), int64(1), object(4)\n",
      "memory usage: 330.3+ KB\n"
     ]
    }
   ],
   "source": [
    "print(full.Name.value_counts())\n",
    "full=full.drop_duplicates(subset=\"lyrics\") # deleting duplicates by lyrics\n",
    "full.info()"
   ]
  },
  {
   "cell_type": "code",
   "execution_count": 15,
   "metadata": {},
   "outputs": [
    {
     "data": {
      "text/html": [
       "<div>\n",
       "<style scoped>\n",
       "    .dataframe tbody tr th:only-of-type {\n",
       "        vertical-align: middle;\n",
       "    }\n",
       "\n",
       "    .dataframe tbody tr th {\n",
       "        vertical-align: top;\n",
       "    }\n",
       "\n",
       "    .dataframe thead th {\n",
       "        text-align: right;\n",
       "    }\n",
       "</style>\n",
       "<table border=\"1\" class=\"dataframe\">\n",
       "  <thead>\n",
       "    <tr style=\"text-align: right;\">\n",
       "      <th></th>\n",
       "      <th>Year</th>\n",
       "      <th>Popularity</th>\n",
       "    </tr>\n",
       "  </thead>\n",
       "  <tbody>\n",
       "    <tr>\n",
       "      <th>count</th>\n",
       "      <td>6040.000000</td>\n",
       "      <td>6040.000000</td>\n",
       "    </tr>\n",
       "    <tr>\n",
       "      <th>mean</th>\n",
       "      <td>2007.874007</td>\n",
       "      <td>44.115698</td>\n",
       "    </tr>\n",
       "    <tr>\n",
       "      <th>std</th>\n",
       "      <td>7.974719</td>\n",
       "      <td>22.367457</td>\n",
       "    </tr>\n",
       "    <tr>\n",
       "      <th>min</th>\n",
       "      <td>1970.000000</td>\n",
       "      <td>6.000000</td>\n",
       "    </tr>\n",
       "    <tr>\n",
       "      <th>25%</th>\n",
       "      <td>2006.000000</td>\n",
       "      <td>28.607271</td>\n",
       "    </tr>\n",
       "    <tr>\n",
       "      <th>50%</th>\n",
       "      <td>2008.000000</td>\n",
       "      <td>42.963634</td>\n",
       "    </tr>\n",
       "    <tr>\n",
       "      <th>75%</th>\n",
       "      <td>2013.000000</td>\n",
       "      <td>57.696657</td>\n",
       "    </tr>\n",
       "    <tr>\n",
       "      <th>max</th>\n",
       "      <td>2018.000000</td>\n",
       "      <td>100.432847</td>\n",
       "    </tr>\n",
       "  </tbody>\n",
       "</table>\n",
       "</div>"
      ],
      "text/plain": [
       "              Year   Popularity\n",
       "count  6040.000000  6040.000000\n",
       "mean   2007.874007    44.115698\n",
       "std       7.974719    22.367457\n",
       "min    1970.000000     6.000000\n",
       "25%    2006.000000    28.607271\n",
       "50%    2008.000000    42.963634\n",
       "75%    2013.000000    57.696657\n",
       "max    2018.000000   100.432847"
      ]
     },
     "execution_count": 15,
     "metadata": {},
     "output_type": "execute_result"
    }
   ],
   "source": [
    "full.describe()## we have outliers in popularity e.g.\"100.432847\",lets remove it  becuase we do not know it actually score.\n"
   ]
  },
  {
   "cell_type": "code",
   "execution_count": 16,
   "metadata": {},
   "outputs": [
    {
     "name": "stdout",
     "output_type": "stream",
     "text": [
      "              Year   Popularity\n",
      "count  6031.000000  6031.000000\n",
      "mean   2007.877632    44.031978\n",
      "std       7.973315    22.278805\n",
      "min    1970.000000     6.000000\n",
      "25%    2006.000000    28.529403\n",
      "50%    2008.000000    42.907296\n",
      "75%    2013.000000    57.558846\n",
      "max    2018.000000   100.000000\n"
     ]
    }
   ],
   "source": [
    "full=full[full.Popularity<=100] #letting values with popularity not over 100%\n",
    "print(full.describe())"
   ]
  },
  {
   "cell_type": "code",
   "execution_count": 17,
   "metadata": {},
   "outputs": [
    {
     "name": "stdout",
     "output_type": "stream",
     "text": [
      "<class 'pandas.core.frame.DataFrame'>\n",
      "Int64Index: 6031 entries, 6 to 1303\n",
      "Data columns (total 6 columns):\n",
      "Artist        6031 non-null category\n",
      "Name          6031 non-null object\n",
      "Year          6031 non-null int64\n",
      "Popularity    6031 non-null float64\n",
      "genre         6031 non-null category\n",
      "lyrics        6031 non-null object\n",
      "dtypes: category(2), float64(1), int64(1), object(2)\n",
      "memory usage: 259.7+ KB\n"
     ]
    }
   ],
   "source": [
    "full.genre=full.genre.astype(\"category\") #making genre and artist category to save memory\n",
    "full.Artist=full.Artist.astype(\"category\")\n",
    "full.info()"
   ]
  },
  {
   "cell_type": "code",
   "execution_count": 18,
   "metadata": {},
   "outputs": [
    {
     "name": "stdout",
     "output_type": "stream",
     "text": [
      "        Artist                  Name  Year  Popularity genre  \\\n",
      "6   Atif Aslam  Tera Hone Laga Hoon   2018   82.596217  Rock   \n",
      "50        ABBA           Angel Eyes   2001  100.000000   Pop   \n",
      "51        ABBA             Fernando   1977   94.432921   Pop   \n",
      "52        ABBA            Mamma Mia   1981   91.296185   Pop   \n",
      "53        ABBA             Waterloo   1995   88.265979   Pop   \n",
      "\n",
      "                                               lyrics  \n",
      "6   Shining in the setting sun. Like a pearl upon ...  \n",
      "50  Ah-ha-ha, ah-aah. Ah-ha-ha, ah-aah. Ah-ha-ha. ...  \n",
      "51  Can you hear the drums, Fernando?. I remember ...  \n",
      "52  I've been cheated by you since I don't know wh...  \n",
      "53  My, my, at Waterloo Napoleon did surrender. Oh...  \n"
     ]
    },
    {
     "data": {
      "text/html": [
       "<div>\n",
       "<style scoped>\n",
       "    .dataframe tbody tr th:only-of-type {\n",
       "        vertical-align: middle;\n",
       "    }\n",
       "\n",
       "    .dataframe tbody tr th {\n",
       "        vertical-align: top;\n",
       "    }\n",
       "\n",
       "    .dataframe thead th {\n",
       "        text-align: right;\n",
       "    }\n",
       "</style>\n",
       "<table border=\"1\" class=\"dataframe\">\n",
       "  <thead>\n",
       "    <tr style=\"text-align: right;\">\n",
       "      <th></th>\n",
       "      <th>Artist</th>\n",
       "      <th>Name</th>\n",
       "      <th>Year</th>\n",
       "      <th>Popularity</th>\n",
       "      <th>genre</th>\n",
       "      <th>lyrics</th>\n",
       "    </tr>\n",
       "  </thead>\n",
       "  <tbody>\n",
       "    <tr>\n",
       "      <th>0</th>\n",
       "      <td>Atif Aslam</td>\n",
       "      <td>Tera Hone Laga Hoon</td>\n",
       "      <td>2018</td>\n",
       "      <td>82.596217</td>\n",
       "      <td>Rock</td>\n",
       "      <td>Shining in the setting sun. Like a pearl upon ...</td>\n",
       "    </tr>\n",
       "    <tr>\n",
       "      <th>1</th>\n",
       "      <td>ABBA</td>\n",
       "      <td>Angel Eyes</td>\n",
       "      <td>2001</td>\n",
       "      <td>100.000000</td>\n",
       "      <td>Pop</td>\n",
       "      <td>Ah-ha-ha, ah-aah. Ah-ha-ha, ah-aah. Ah-ha-ha. ...</td>\n",
       "    </tr>\n",
       "    <tr>\n",
       "      <th>2</th>\n",
       "      <td>ABBA</td>\n",
       "      <td>Fernando</td>\n",
       "      <td>1977</td>\n",
       "      <td>94.432921</td>\n",
       "      <td>Pop</td>\n",
       "      <td>Can you hear the drums, Fernando?. I remember ...</td>\n",
       "    </tr>\n",
       "    <tr>\n",
       "      <th>3</th>\n",
       "      <td>ABBA</td>\n",
       "      <td>Mamma Mia</td>\n",
       "      <td>1981</td>\n",
       "      <td>91.296185</td>\n",
       "      <td>Pop</td>\n",
       "      <td>I've been cheated by you since I don't know wh...</td>\n",
       "    </tr>\n",
       "    <tr>\n",
       "      <th>4</th>\n",
       "      <td>ABBA</td>\n",
       "      <td>Waterloo</td>\n",
       "      <td>1995</td>\n",
       "      <td>88.265979</td>\n",
       "      <td>Pop</td>\n",
       "      <td>My, my, at Waterloo Napoleon did surrender. Oh...</td>\n",
       "    </tr>\n",
       "  </tbody>\n",
       "</table>\n",
       "</div>"
      ],
      "text/plain": [
       "       Artist                  Name  Year  Popularity genre  \\\n",
       "0  Atif Aslam  Tera Hone Laga Hoon   2018   82.596217  Rock   \n",
       "1        ABBA           Angel Eyes   2001  100.000000   Pop   \n",
       "2        ABBA             Fernando   1977   94.432921   Pop   \n",
       "3        ABBA            Mamma Mia   1981   91.296185   Pop   \n",
       "4        ABBA             Waterloo   1995   88.265979   Pop   \n",
       "\n",
       "                                              lyrics  \n",
       "0  Shining in the setting sun. Like a pearl upon ...  \n",
       "1  Ah-ha-ha, ah-aah. Ah-ha-ha, ah-aah. Ah-ha-ha. ...  \n",
       "2  Can you hear the drums, Fernando?. I remember ...  \n",
       "3  I've been cheated by you since I don't know wh...  \n",
       "4  My, my, at Waterloo Napoleon did surrender. Oh...  "
      ]
     },
     "execution_count": 18,
     "metadata": {},
     "output_type": "execute_result"
    }
   ],
   "source": [
    "print(full.head())\n",
    "full=full.reset_index(drop=True) #re-setting index to start from 0\n",
    "full.head()"
   ]
  },
  {
   "cell_type": "code",
   "execution_count": 19,
   "metadata": {},
   "outputs": [],
   "source": [
    "lyrics2=[Cleaner(i) for i in full.lyrics] #making lyrics of class \"Cleaner\" to use it further for sentiment analysis"
   ]
  },
  {
   "cell_type": "code",
   "execution_count": 20,
   "metadata": {},
   "outputs": [],
   "source": [
    "boool=[len(i.sentences)>10  for i in lyrics2]\n",
    "#keeping only observations where lyrics sentences are more than 10\n",
    "full=full.loc[boool] #assigning boolean value to loc and keeping only rows where boolean= True"
   ]
  },
  {
   "cell_type": "code",
   "execution_count": 21,
   "metadata": {},
   "outputs": [
    {
     "name": "stdout",
     "output_type": "stream",
     "text": [
      "<class 'pandas.core.frame.DataFrame'>\n",
      "Int64Index: 5783 entries, 0 to 6030\n",
      "Data columns (total 6 columns):\n",
      "Artist        5783 non-null category\n",
      "Name          5783 non-null object\n",
      "Year          5783 non-null int64\n",
      "Popularity    5783 non-null float64\n",
      "genre         5783 non-null category\n",
      "lyrics        5783 non-null object\n",
      "dtypes: category(2), float64(1), int64(1), object(2)\n",
      "memory usage: 249.3+ KB\n"
     ]
    }
   ],
   "source": [
    "full.info()"
   ]
  },
  {
   "cell_type": "code",
   "execution_count": 22,
   "metadata": {},
   "outputs": [],
   "source": [
    "lyrics2=[i for i in lyrics2 if len(i.sentences)>10] #dividing lyrics' text into sentences"
   ]
  },
  {
   "cell_type": "code",
   "execution_count": 23,
   "metadata": {},
   "outputs": [],
   "source": [
    "number_of_words=[len(i.words) for i in  lyrics2 ]"
   ]
  },
  {
   "cell_type": "code",
   "execution_count": 24,
   "metadata": {},
   "outputs": [],
   "source": [
    "full[\"N_WORDS\"]=number_of_words #number of words in each song"
   ]
  },
  {
   "cell_type": "code",
   "execution_count": 25,
   "metadata": {},
   "outputs": [],
   "source": [
    "sentiment_polarity=[i.string.sentiment for i in lyrics2] #polarity for each song"
   ]
  },
  {
   "cell_type": "code",
   "execution_count": 26,
   "metadata": {},
   "outputs": [],
   "source": [
    "Polarity=[]\n",
    "Sentiment=[]\n",
    "for i in sentiment_polarity:\n",
    "    Polarity.append(i[0])\n",
    "    Sentiment.append(i[1]) #evaluating polarity and making it a list\n"
   ]
  },
  {
   "cell_type": "code",
   "execution_count": 27,
   "metadata": {},
   "outputs": [],
   "source": [
    "Polarity=[float(\"%.2f\"% i) for i in Polarity]\n",
    "Sentiment=[float(\"%.2f\"% i) for i in Sentiment] #expanding dataframe to include sentiment and polarity"
   ]
  },
  {
   "cell_type": "code",
   "execution_count": 28,
   "metadata": {},
   "outputs": [],
   "source": [
    "full[\"Polarity\"]=Polarity\n",
    "full[\"Sentiment\"]=Sentiment"
   ]
  },
  {
   "cell_type": "code",
   "execution_count": 29,
   "metadata": {},
   "outputs": [
    {
     "data": {
      "text/html": [
       "<div>\n",
       "<style scoped>\n",
       "    .dataframe tbody tr th:only-of-type {\n",
       "        vertical-align: middle;\n",
       "    }\n",
       "\n",
       "    .dataframe tbody tr th {\n",
       "        vertical-align: top;\n",
       "    }\n",
       "\n",
       "    .dataframe thead th {\n",
       "        text-align: right;\n",
       "    }\n",
       "</style>\n",
       "<table border=\"1\" class=\"dataframe\">\n",
       "  <thead>\n",
       "    <tr style=\"text-align: right;\">\n",
       "      <th></th>\n",
       "      <th>Artist</th>\n",
       "      <th>Name</th>\n",
       "      <th>Year</th>\n",
       "      <th>Popularity</th>\n",
       "      <th>genre</th>\n",
       "      <th>lyrics</th>\n",
       "      <th>N_WORDS</th>\n",
       "      <th>Polarity</th>\n",
       "      <th>Sentiment</th>\n",
       "    </tr>\n",
       "  </thead>\n",
       "  <tbody>\n",
       "    <tr>\n",
       "      <th>0</th>\n",
       "      <td>Atif Aslam</td>\n",
       "      <td>Tera Hone Laga Hoon</td>\n",
       "      <td>2018</td>\n",
       "      <td>82.596217</td>\n",
       "      <td>Rock</td>\n",
       "      <td>Shining in the setting sun. Like a pearl upon ...</td>\n",
       "      <td>387</td>\n",
       "      <td>0.33</td>\n",
       "      <td>0.47</td>\n",
       "    </tr>\n",
       "    <tr>\n",
       "      <th>1</th>\n",
       "      <td>ABBA</td>\n",
       "      <td>Angel Eyes</td>\n",
       "      <td>2001</td>\n",
       "      <td>100.000000</td>\n",
       "      <td>Pop</td>\n",
       "      <td>Ah-ha-ha, ah-aah. Ah-ha-ha, ah-aah. Ah-ha-ha. ...</td>\n",
       "      <td>364</td>\n",
       "      <td>0.05</td>\n",
       "      <td>0.41</td>\n",
       "    </tr>\n",
       "    <tr>\n",
       "      <th>2</th>\n",
       "      <td>ABBA</td>\n",
       "      <td>Fernando</td>\n",
       "      <td>1977</td>\n",
       "      <td>94.432921</td>\n",
       "      <td>Pop</td>\n",
       "      <td>Can you hear the drums, Fernando?. I remember ...</td>\n",
       "      <td>322</td>\n",
       "      <td>0.17</td>\n",
       "      <td>0.41</td>\n",
       "    </tr>\n",
       "    <tr>\n",
       "      <th>3</th>\n",
       "      <td>ABBA</td>\n",
       "      <td>Mamma Mia</td>\n",
       "      <td>1981</td>\n",
       "      <td>91.296185</td>\n",
       "      <td>Pop</td>\n",
       "      <td>I've been cheated by you since I don't know wh...</td>\n",
       "      <td>336</td>\n",
       "      <td>0.01</td>\n",
       "      <td>0.39</td>\n",
       "    </tr>\n",
       "    <tr>\n",
       "      <th>4</th>\n",
       "      <td>ABBA</td>\n",
       "      <td>Waterloo</td>\n",
       "      <td>1995</td>\n",
       "      <td>88.265979</td>\n",
       "      <td>Pop</td>\n",
       "      <td>My, my, at Waterloo Napoleon did surrender. Oh...</td>\n",
       "      <td>196</td>\n",
       "      <td>0.28</td>\n",
       "      <td>0.65</td>\n",
       "    </tr>\n",
       "  </tbody>\n",
       "</table>\n",
       "</div>"
      ],
      "text/plain": [
       "       Artist                  Name  Year  Popularity genre  \\\n",
       "0  Atif Aslam  Tera Hone Laga Hoon   2018   82.596217  Rock   \n",
       "1        ABBA           Angel Eyes   2001  100.000000   Pop   \n",
       "2        ABBA             Fernando   1977   94.432921   Pop   \n",
       "3        ABBA            Mamma Mia   1981   91.296185   Pop   \n",
       "4        ABBA             Waterloo   1995   88.265979   Pop   \n",
       "\n",
       "                                              lyrics  N_WORDS  Polarity  \\\n",
       "0  Shining in the setting sun. Like a pearl upon ...      387      0.33   \n",
       "1  Ah-ha-ha, ah-aah. Ah-ha-ha, ah-aah. Ah-ha-ha. ...      364      0.05   \n",
       "2  Can you hear the drums, Fernando?. I remember ...      322      0.17   \n",
       "3  I've been cheated by you since I don't know wh...      336      0.01   \n",
       "4  My, my, at Waterloo Napoleon did surrender. Oh...      196      0.28   \n",
       "\n",
       "   Sentiment  \n",
       "0       0.47  \n",
       "1       0.41  \n",
       "2       0.41  \n",
       "3       0.39  \n",
       "4       0.65  "
      ]
     },
     "execution_count": 29,
     "metadata": {},
     "output_type": "execute_result"
    }
   ],
   "source": [
    "full.head()"
   ]
  },
  {
   "cell_type": "code",
   "execution_count": 30,
   "metadata": {
    "scrolled": true
   },
   "outputs": [
    {
     "data": {
      "text/html": [
       "<div>\n",
       "<style scoped>\n",
       "    .dataframe tbody tr th:only-of-type {\n",
       "        vertical-align: middle;\n",
       "    }\n",
       "\n",
       "    .dataframe tbody tr th {\n",
       "        vertical-align: top;\n",
       "    }\n",
       "\n",
       "    .dataframe thead th {\n",
       "        text-align: right;\n",
       "    }\n",
       "</style>\n",
       "<table border=\"1\" class=\"dataframe\">\n",
       "  <thead>\n",
       "    <tr style=\"text-align: right;\">\n",
       "      <th></th>\n",
       "      <th>Year</th>\n",
       "      <th>Popularity</th>\n",
       "      <th>N_WORDS</th>\n",
       "      <th>Polarity</th>\n",
       "      <th>Sentiment</th>\n",
       "    </tr>\n",
       "  </thead>\n",
       "  <tbody>\n",
       "    <tr>\n",
       "      <th>count</th>\n",
       "      <td>5783.000000</td>\n",
       "      <td>5783.000000</td>\n",
       "      <td>5783.000000</td>\n",
       "      <td>5783.000000</td>\n",
       "      <td>5783.000000</td>\n",
       "    </tr>\n",
       "    <tr>\n",
       "      <th>mean</th>\n",
       "      <td>2007.874460</td>\n",
       "      <td>44.427445</td>\n",
       "      <td>330.606778</td>\n",
       "      <td>0.115414</td>\n",
       "      <td>0.514818</td>\n",
       "    </tr>\n",
       "    <tr>\n",
       "      <th>std</th>\n",
       "      <td>8.004634</td>\n",
       "      <td>22.158962</td>\n",
       "      <td>188.286687</td>\n",
       "      <td>0.182707</td>\n",
       "      <td>0.135127</td>\n",
       "    </tr>\n",
       "    <tr>\n",
       "      <th>min</th>\n",
       "      <td>1970.000000</td>\n",
       "      <td>6.000000</td>\n",
       "      <td>39.000000</td>\n",
       "      <td>-0.790000</td>\n",
       "      <td>0.000000</td>\n",
       "    </tr>\n",
       "    <tr>\n",
       "      <th>25%</th>\n",
       "      <td>2006.000000</td>\n",
       "      <td>29.091469</td>\n",
       "      <td>203.000000</td>\n",
       "      <td>0.000000</td>\n",
       "      <td>0.440000</td>\n",
       "    </tr>\n",
       "    <tr>\n",
       "      <th>50%</th>\n",
       "      <td>2008.000000</td>\n",
       "      <td>43.275178</td>\n",
       "      <td>285.000000</td>\n",
       "      <td>0.110000</td>\n",
       "      <td>0.520000</td>\n",
       "    </tr>\n",
       "    <tr>\n",
       "      <th>75%</th>\n",
       "      <td>2013.000000</td>\n",
       "      <td>57.867736</td>\n",
       "      <td>401.500000</td>\n",
       "      <td>0.230000</td>\n",
       "      <td>0.600000</td>\n",
       "    </tr>\n",
       "    <tr>\n",
       "      <th>max</th>\n",
       "      <td>2018.000000</td>\n",
       "      <td>100.000000</td>\n",
       "      <td>2450.000000</td>\n",
       "      <td>1.000000</td>\n",
       "      <td>1.000000</td>\n",
       "    </tr>\n",
       "  </tbody>\n",
       "</table>\n",
       "</div>"
      ],
      "text/plain": [
       "              Year   Popularity      N_WORDS     Polarity    Sentiment\n",
       "count  5783.000000  5783.000000  5783.000000  5783.000000  5783.000000\n",
       "mean   2007.874460    44.427445   330.606778     0.115414     0.514818\n",
       "std       8.004634    22.158962   188.286687     0.182707     0.135127\n",
       "min    1970.000000     6.000000    39.000000    -0.790000     0.000000\n",
       "25%    2006.000000    29.091469   203.000000     0.000000     0.440000\n",
       "50%    2008.000000    43.275178   285.000000     0.110000     0.520000\n",
       "75%    2013.000000    57.867736   401.500000     0.230000     0.600000\n",
       "max    2018.000000   100.000000  2450.000000     1.000000     1.000000"
      ]
     },
     "execution_count": 30,
     "metadata": {},
     "output_type": "execute_result"
    }
   ],
   "source": [
    "full.describe()"
   ]
  },
  {
   "cell_type": "code",
   "execution_count": 31,
   "metadata": {},
   "outputs": [
    {
     "name": "stdout",
     "output_type": "stream",
     "text": [
      "<class 'pandas.core.frame.DataFrame'>\n",
      "Int64Index: 5783 entries, 0 to 6030\n",
      "Data columns (total 9 columns):\n",
      "Artist        5783 non-null category\n",
      "Name          5783 non-null object\n",
      "Year          5783 non-null int64\n",
      "Popularity    5783 non-null float64\n",
      "genre         5783 non-null category\n",
      "lyrics        5783 non-null object\n",
      "N_WORDS       5783 non-null int64\n",
      "Polarity      5783 non-null float64\n",
      "Sentiment     5783 non-null float64\n",
      "dtypes: category(2), float64(3), int64(2), object(2)\n",
      "memory usage: 384.9+ KB\n"
     ]
    }
   ],
   "source": [
    "full.info()"
   ]
  },
  {
   "cell_type": "code",
   "execution_count": 32,
   "metadata": {},
   "outputs": [
    {
     "data": {
      "text/html": [
       "<div>\n",
       "<style scoped>\n",
       "    .dataframe tbody tr th:only-of-type {\n",
       "        vertical-align: middle;\n",
       "    }\n",
       "\n",
       "    .dataframe tbody tr th {\n",
       "        vertical-align: top;\n",
       "    }\n",
       "\n",
       "    .dataframe thead th {\n",
       "        text-align: right;\n",
       "    }\n",
       "</style>\n",
       "<table border=\"1\" class=\"dataframe\">\n",
       "  <thead>\n",
       "    <tr style=\"text-align: right;\">\n",
       "      <th></th>\n",
       "      <th>Artist</th>\n",
       "      <th>Name</th>\n",
       "      <th>Year</th>\n",
       "      <th>Popularity</th>\n",
       "      <th>genre</th>\n",
       "      <th>lyrics</th>\n",
       "      <th>N_WORDS</th>\n",
       "      <th>Polarity</th>\n",
       "      <th>Sentiment</th>\n",
       "    </tr>\n",
       "  </thead>\n",
       "  <tbody>\n",
       "    <tr>\n",
       "      <th>0</th>\n",
       "      <td>Atif Aslam</td>\n",
       "      <td>Tera Hone Laga Hoon</td>\n",
       "      <td>2018</td>\n",
       "      <td>82.596217</td>\n",
       "      <td>Rock</td>\n",
       "      <td>Shining in the setting sun. Like a pearl upon ...</td>\n",
       "      <td>387</td>\n",
       "      <td>0.33</td>\n",
       "      <td>0.47</td>\n",
       "    </tr>\n",
       "    <tr>\n",
       "      <th>1</th>\n",
       "      <td>ABBA</td>\n",
       "      <td>Angel Eyes</td>\n",
       "      <td>2001</td>\n",
       "      <td>100.000000</td>\n",
       "      <td>Pop</td>\n",
       "      <td>Ah-ha-ha, ah-aah. Ah-ha-ha, ah-aah. Ah-ha-ha. ...</td>\n",
       "      <td>364</td>\n",
       "      <td>0.05</td>\n",
       "      <td>0.41</td>\n",
       "    </tr>\n",
       "    <tr>\n",
       "      <th>2</th>\n",
       "      <td>ABBA</td>\n",
       "      <td>Fernando</td>\n",
       "      <td>1977</td>\n",
       "      <td>94.432921</td>\n",
       "      <td>Pop</td>\n",
       "      <td>Can you hear the drums, Fernando?. I remember ...</td>\n",
       "      <td>322</td>\n",
       "      <td>0.17</td>\n",
       "      <td>0.41</td>\n",
       "    </tr>\n",
       "    <tr>\n",
       "      <th>3</th>\n",
       "      <td>ABBA</td>\n",
       "      <td>Mamma Mia</td>\n",
       "      <td>1981</td>\n",
       "      <td>91.296185</td>\n",
       "      <td>Pop</td>\n",
       "      <td>I've been cheated by you since I don't know wh...</td>\n",
       "      <td>336</td>\n",
       "      <td>0.01</td>\n",
       "      <td>0.39</td>\n",
       "    </tr>\n",
       "    <tr>\n",
       "      <th>4</th>\n",
       "      <td>ABBA</td>\n",
       "      <td>Waterloo</td>\n",
       "      <td>1995</td>\n",
       "      <td>88.265979</td>\n",
       "      <td>Pop</td>\n",
       "      <td>My, my, at Waterloo Napoleon did surrender. Oh...</td>\n",
       "      <td>196</td>\n",
       "      <td>0.28</td>\n",
       "      <td>0.65</td>\n",
       "    </tr>\n",
       "  </tbody>\n",
       "</table>\n",
       "</div>"
      ],
      "text/plain": [
       "       Artist                  Name  Year  Popularity genre  \\\n",
       "0  Atif Aslam  Tera Hone Laga Hoon   2018   82.596217  Rock   \n",
       "1        ABBA           Angel Eyes   2001  100.000000   Pop   \n",
       "2        ABBA             Fernando   1977   94.432921   Pop   \n",
       "3        ABBA            Mamma Mia   1981   91.296185   Pop   \n",
       "4        ABBA             Waterloo   1995   88.265979   Pop   \n",
       "\n",
       "                                              lyrics  N_WORDS  Polarity  \\\n",
       "0  Shining in the setting sun. Like a pearl upon ...      387      0.33   \n",
       "1  Ah-ha-ha, ah-aah. Ah-ha-ha, ah-aah. Ah-ha-ha. ...      364      0.05   \n",
       "2  Can you hear the drums, Fernando?. I remember ...      322      0.17   \n",
       "3  I've been cheated by you since I don't know wh...      336      0.01   \n",
       "4  My, my, at Waterloo Napoleon did surrender. Oh...      196      0.28   \n",
       "\n",
       "   Sentiment  \n",
       "0       0.47  \n",
       "1       0.41  \n",
       "2       0.41  \n",
       "3       0.39  \n",
       "4       0.65  "
      ]
     },
     "execution_count": 32,
     "metadata": {},
     "output_type": "execute_result"
    }
   ],
   "source": [
    "full.head()"
   ]
  },
  {
   "cell_type": "code",
   "execution_count": 33,
   "metadata": {},
   "outputs": [
    {
     "data": {
      "text/plain": [
       "<matplotlib.axes._subplots.AxesSubplot at 0x28c2f4e3c88>"
      ]
     },
     "execution_count": 33,
     "metadata": {},
     "output_type": "execute_result"
    },
    {
     "data": {
      "image/png": "[encoded data removed]",
      "text/plain": [
       "<Figure size 1080x720 with 1 Axes>"
      ]
     },
     "metadata": {},
     "output_type": "display_data"
    }
   ],
   "source": [
    "full.Popularity.plot(kind='hist',title=\"Distribution of popularity\",figsize=(15, 10), legend=True, fontsize=12)"
   ]
  },
  {
   "cell_type": "code",
   "execution_count": 34,
   "metadata": {},
   "outputs": [
    {
     "data": {
      "text/plain": [
       "330.6067784886737"
      ]
     },
     "execution_count": 34,
     "metadata": {},
     "output_type": "execute_result"
    }
   ],
   "source": [
    "full[\"N_WORDS\"].mean()"
   ]
  },
  {
   "cell_type": "code",
   "execution_count": 35,
   "metadata": {},
   "outputs": [
    {
     "data": {
      "text/plain": [
       "<matplotlib.axes._subplots.AxesSubplot at 0x28c2f7ead30>"
      ]
     },
     "execution_count": 35,
     "metadata": {},
     "output_type": "execute_result"
    },
    {
     "data": {
      "image/png": "[encoded data removed]",
      "text/plain": [
       "<Figure size 1080x720 with 1 Axes>"
      ]
     },
     "metadata": {},
     "output_type": "display_data"
    }
   ],
   "source": [
    "full.groupby('genre')['N_WORDS'].mean().plot(kind='bar', title =\"Mean number of words by genres\", figsize=(15, 10), legend=True, fontsize=12)"
   ]
  }
 ],
 "metadata": {
  "kernelspec": {
   "display_name": "Python 3",
   "language": "python",
   "name": "python3"
  },
  "language_info": {
   "codemirror_mode": {
    "name": "ipython",
    "version": 3
   },
   "file_extension": ".py",
   "mimetype": "text/x-python",
   "name": "python",
   "nbconvert_exporter": "python",
   "pygments_lexer": "ipython3",
   "version": "3.6.5"
  }
 },
 "nbformat": 4,
 "nbformat_minor": 2
}
