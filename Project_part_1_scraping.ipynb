{
 "cells": [
  {
   "cell_type": "markdown",
   "metadata": {},
   "source": [
    "# Part 1: Scraping [metrolyrics.com](http://www.metrolyrics.com/top-artists.html)"
   ]
  },
  {
   "cell_type": "code",
   "execution_count": 5,
   "metadata": {},
   "outputs": [],
   "source": [
    "#importing all the needed libraries \n",
    "import requests\n",
    "from lxml import html\n",
    "from lxml.etree import tostring\n",
    "import time\n",
    "import requests\n",
    "from pprint import pprint\n",
    "from bs4 import BeautifulSoup\n",
    "\n",
    "#textblob\n",
    "from textblob import TextBlob, Word\n",
    "import numpy as np #for numeric operations\n",
    "import pandas as pd #for dealing with dataframes\n",
    "import matplotlib.pyplot as plt #for visualization\n",
    "import re\n",
    "import time\n",
    "from lxml.cssselect import CSSSelector\n",
    "from lxml import html\n",
    "import json\n",
    "from selenium import webdriver\n",
    "import time\n",
    "import pandas as pd\n",
    "from itertools import chain\n",
    "from glob import glob"
   ]
  },
  {
   "cell_type": "code",
   "execution_count": 6,
   "metadata": {},
   "outputs": [],
   "source": [
    "class scraper:\n",
    "    def __init__(self,url):\n",
    "        self.url=url\n",
    "        self.response=requests.get(self.url)\n",
    "        self.page=self.response.content\n",
    "    def beaut(self):\n",
    "        page=BeautifulSoup(self.page, \"html.parser\")\n",
    "        return page\n",
    "    def s_lxml(self):\n",
    "        tree = html.document_fromstring(self.page)\n",
    "        return tree\n",
    "    def selen(self):\n",
    "        browser = webdriver.Chrome()\n",
    "        browser=browser.get(self.url)\n",
    "        return browser      "
   ]
  },
  {
   "cell_type": "code",
   "execution_count": 7,
   "metadata": {},
   "outputs": [],
   "source": [
    "def function_1(url):\n",
    "    '''Function 1 scrapes all the popular song texts from a particular artist '''\n",
    "    each=scraper(url).beaut()# making the page a BeautifulSoup from the above defined class\n",
    "    links=[]\n",
    "    divs=each.find(\"div\",id=\"popular\") # finding table of popular songs of a particular artist \n",
    "    urls=[i.get(\"href\") for i in divs.select(\"td a\")] #retrieving the urls of all popular songs of an artist\n",
    "    artist=each.select_one(\"div h1\").get_text().replace(\"Lyrics\",\"\").strip() # getting the name of an artist from the header\n",
    "    for i in urls:\n",
    "        links.append(scraper(i).beaut())\n",
    "        time.sleep(3) #making song urls a bs4 object\n",
    "         # getting texts of all popular songs of a particular artist\n",
    "    text=[\",\".join([i.get_text() for i in j.find_all(\"p\",class_=\"verse\")]) for j in links]\n",
    "    divs=each.find(\"div\",id=\"popular\") \n",
    "    unclean_rating=[i.get(\"style\") for i in divs.find_all(\"span\",style=re.compile(\".*width.+\"))] \n",
    "    ratings=[re.findall(\"[0-9.]+\",i)[0] for i in unclean_rating] #getting song rating\n",
    "    z=each.find_all(\"script\")[5].get_text() \n",
    "    genre=re.findall('\"tag\",.+',z) #getting song genre/in a tag/\n",
    "    df=pd.read_html(url)[0] #making a dataframe from all the obtained data\n",
    "    df[\"Popularity\"]=ratings\n",
    "    df[\"genre\"]=genre[0]\n",
    "    df = df.rename(columns={'Unnamed: 0': 'Artist'})\n",
    "    df[\"lyrics\"]=text\n",
    "    df[\"Artist\"]=artist\n",
    "    return df"
   ]
  },
  {
   "cell_type": "code",
   "execution_count": 8,
   "metadata": {},
   "outputs": [],
   "source": [
    "def function_2(url=\"http://www.metrolyrics.com/artists-1.html\"):\n",
    "    '''function_2 gets top artists from the given url and returns back all their songs using function_1 '''\n",
    "    art_page=scraper(url).beaut() #making the url a bs4 object\n",
    "    divs=art_page.find_all(\"div\",class_=re.compile(\"artist grid_2\")) # finding all divs of artists matching \"artist grid_2\"\n",
    "    links=[i.find(\"a\").get(\"href\") for i in divs] #getting links for all top artists separate pages\n",
    "    frames=[]\n",
    "    for i in links:\n",
    "        frames.append(function_1(i))\n",
    "        print(i)\n",
    "        time.sleep(10)\n",
    "    result=pd.concat(frames,ignore_index=True) #taking into account that different artists have diverse number of songs\n",
    "    #using function_1 to get all song texts with ratings and genres for top artists of a noted url\n",
    "    return result"
   ]
  },
  {
   "cell_type": "code",
   "execution_count": 9,
   "metadata": {},
   "outputs": [],
   "source": [
    "def char_range(c1, c2):\n",
    "    \"\"\"Generates the characters from c1 to c2, inclusive.\n",
    "     char_range function will be used to separately run the code using alphabetical order.\"\"\" \n",
    "    for c in range(ord(c1), ord(c2)+1):\n",
    "        yield chr(c)"
   ]
  },
  {
   "cell_type": "code",
   "execution_count": 10,
   "metadata": {},
   "outputs": [],
   "source": [
    "def function_3(start_char,end_char,first=False):\n",
    "    '''function_3 gets all artists' urls and returns all their songs with respective names, ratings, song texts, \n",
    "      genres and popularity for noted range of alphabet letters '''\n",
    "    frames=[]\n",
    "    base=[\"http://www.metrolyrics.com/artists-{}.html\".format(i) for i in char_range(start_char,end_char)]\n",
    "    if first==True:\n",
    "        base=[\"http://www.metrolyrics.com/artists-{}.html\".format(i) for i in chain(char_range(start_char,end_char),[\"1\"])]\n",
    "    for i in base:\n",
    "        frames.append(function_2(i))\n",
    "        time.sleep(20)\n",
    "        print(i)\n",
    "    result=pd.concat(frames,ignore_index=True)\n",
    "    return result"
   ]
  },
  {
   "cell_type": "code",
   "execution_count": null,
   "metadata": {},
   "outputs": [
    {
     "name": "stdout",
     "output_type": "stream",
     "text": [
      "http://www.metrolyrics.com/atif-aslam-lyrics.html\n",
      "http://www.metrolyrics.com/abba-lyrics.html\n",
      "http://www.metrolyrics.com/arijit-singh-lyrics.html\n",
      "http://www.metrolyrics.com/adele-lyrics.html\n",
      "http://www.metrolyrics.com/ar-rahman-lyrics.html\n",
      "http://www.metrolyrics.com/annie-lyrics.html\n",
      "http://www.metrolyrics.com/artists-a.html\n",
      "http://www.metrolyrics.com/brett-young-lyrics.html\n",
      "http://www.metrolyrics.com/beatles-lyrics.html\n"
     ]
    }
   ],
   "source": [
    "df1=function_3(\"a\",\"e\",True) #this df1 returns all top artists'respective song data names of which are in from a to e, inclusive.\n",
    "#also this df1 includes names starting with numbers, e.g. 50 cent, which is done by giving the first=True in function_3."
   ]
  },
  {
   "cell_type": "code",
   "execution_count": 52,
   "metadata": {},
   "outputs": [],
   "source": [
    "df1.to_csv(\"df1.csv\",index=False) #making artists' data a csv file."
   ]
  },
  {
   "cell_type": "code",
   "execution_count": 187,
   "metadata": {},
   "outputs": [],
   "source": [
    "\"\"\"df2=function_3(\"f\",\"j\")\n",
    "df3=function_3(\"k\",\"o\")\n",
    "df4=function_3(\"p\",\"u\")\n",
    "df5=function_3(\"v\",\"z\")\"\"\" # we divided the code into 5 parts and run on 5 computers to get all top artists' data from a-z.\n"
   ]
  }
 ],
 "metadata": {
  "kernelspec": {
   "display_name": "Python 3",
   "language": "python",
   "name": "python3"
  },
  "language_info": {
   "codemirror_mode": {
    "name": "ipython",
    "version": 3
   },
   "file_extension": ".py",
   "mimetype": "text/x-python",
   "name": "python",
   "nbconvert_exporter": "python",
   "pygments_lexer": "ipython3",
   "version": "3.6.5"
  }
 },
 "nbformat": 4,
 "nbformat_minor": 2
}
